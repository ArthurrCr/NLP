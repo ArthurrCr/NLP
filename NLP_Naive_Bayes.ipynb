{
  "cells": [
    {
      "cell_type": "markdown",
      "source": [
        "### Descrição:\n",
        "\n",
        "#### O objetivo deste exercício é treinar e avaliar um classificador Naive Bayes para uma tarefa de análise de sentimentos.\n",
        "\n",
        "#### O texto utilizado no treinamento e no teste deve ser pré-processado para incluir o prefixo “NAO_” de acordo com a seguinte regra:\n",
        "\n",
        "  O prefixo “NAO_” deve ser adicionado a cada palavra após um\n",
        "  token de negação (não, nem, nunca, jamais, tampouco) até a próxima\n",
        "  pontuação. São consideradas pontuações: . , ? ! ;\n",
        "  O treino deve ser realizado com 80% dos dados e o teste com 20%. Você deve\n",
        "  calcular a acurácia do classificador aplicado aos dados de teste e comparar com\n",
        "  o resultado do Naive Bayes sem a utilização do prefixo “NAO_”.\n"
      ],
      "metadata": {
        "id": "JfQ6UoFFxhkD"
      }
    },
    {
      "cell_type": "code",
      "execution_count": 1,
      "metadata": {
        "colab": {
          "base_uri": "https://localhost:8080/"
        },
        "id": "HD78xLLsZ2xN",
        "outputId": "ac451bac-ff5f-4897-9dbd-11702a65da19"
      },
      "outputs": [
        {
          "output_type": "stream",
          "name": "stdout",
          "text": [
            "--2023-04-20 22:46:54--  https://github.com/yurimalheiros/pln/raw/main/datasets/B2W-Reviews01.csv.zip\n",
            "Resolving github.com (github.com)... 20.27.177.113\n",
            "Connecting to github.com (github.com)|20.27.177.113|:443... connected.\n",
            "HTTP request sent, awaiting response... 302 Found\n",
            "Location: https://raw.githubusercontent.com/yurimalheiros/pln/main/datasets/B2W-Reviews01.csv.zip [following]\n",
            "--2023-04-20 22:46:54--  https://raw.githubusercontent.com/yurimalheiros/pln/main/datasets/B2W-Reviews01.csv.zip\n",
            "Resolving raw.githubusercontent.com (raw.githubusercontent.com)... 185.199.108.133, 185.199.109.133, 185.199.110.133, ...\n",
            "Connecting to raw.githubusercontent.com (raw.githubusercontent.com)|185.199.108.133|:443... connected.\n",
            "HTTP request sent, awaiting response... 200 OK\n",
            "Length: 20530574 (20M) [application/zip]\n",
            "Saving to: ‘B2W-Reviews01.csv.zip.2’\n",
            "\n",
            "B2W-Reviews01.csv.z 100%[===================>]  19.58M   129MB/s    in 0.2s    \n",
            "\n",
            "2023-04-20 22:46:55 (129 MB/s) - ‘B2W-Reviews01.csv.zip.2’ saved [20530574/20530574]\n",
            "\n"
          ]
        }
      ],
      "source": [
        "!wget https://github.com/yurimalheiros/pln/raw/main/datasets/B2W-Reviews01.csv.zip"
      ]
    },
    {
      "cell_type": "code",
      "execution_count": 2,
      "metadata": {
        "id": "NujeccjJZ2xO",
        "colab": {
          "base_uri": "https://localhost:8080/"
        },
        "outputId": "27f4b855-13d1-4b87-9bf8-5c782b378a45"
      },
      "outputs": [
        {
          "output_type": "stream",
          "name": "stdout",
          "text": [
            "Archive:  B2W-Reviews01.csv.zip\n",
            "replace B2W-Reviews01.csv? [y]es, [n]o, [A]ll, [N]one, [r]ename: A\n",
            "  inflating: B2W-Reviews01.csv       \n",
            "  inflating: __MACOSX/._B2W-Reviews01.csv  \n"
          ]
        }
      ],
      "source": [
        "!unzip B2W-Reviews01.csv.zip"
      ]
    },
    {
      "cell_type": "code",
      "source": [
        "import pandas as pd\n",
        "import numpy as np\n",
        "from sklearn.feature_extraction.text import CountVectorizer\n",
        "import re\n",
        "import nltk\n",
        "from sklearn.model_selection import train_test_split\n",
        "from sklearn.naive_bayes import MultinomialNB\n",
        "from sklearn.metrics import classification_report"
      ],
      "metadata": {
        "id": "GPHLVEqDwuS1"
      },
      "execution_count": 18,
      "outputs": []
    },
    {
      "cell_type": "code",
      "execution_count": 19,
      "metadata": {
        "colab": {
          "base_uri": "https://localhost:8080/"
        },
        "id": "hBd-yI5h5NiY",
        "outputId": "21a84d5b-27b6-498c-c2a8-7948537c4993"
      },
      "outputs": [
        {
          "output_type": "stream",
          "name": "stderr",
          "text": [
            "[nltk_data] Downloading package punkt to /root/nltk_data...\n",
            "[nltk_data]   Package punkt is already up-to-date!\n",
            "<ipython-input-19-d1139d7e7f5b>:5: DtypeWarning: Columns (2) have mixed types. Specify dtype option on import or set low_memory=False.\n",
            "  df = pd.read_csv('B2W-Reviews01.csv').dropna().reset_index().drop(columns=['index'])\n",
            "<ipython-input-19-d1139d7e7f5b>:8: DtypeWarning: Columns (2) have mixed types. Specify dtype option on import or set low_memory=False.\n",
            "  df_nao = pd.read_csv('B2W-Reviews01.csv').dropna().reset_index().drop(columns=['index'])\n"
          ]
        }
      ],
      "source": [
        "# Nltk serve para fazer a tokenização\n",
        "nltk.download('punkt')\n",
        "\n",
        "# Lendo o arquivo csv e removendo as linhas com valores nulos\n",
        "df = pd.read_csv('B2W-Reviews01.csv').dropna().reset_index().drop(columns=['index'])\n",
        "\n",
        "# Mesma coisa para os dados que vão receber Nao_\n",
        "df_nao = pd.read_csv('B2W-Reviews01.csv').dropna().reset_index().drop(columns=['index'])"
      ]
    },
    {
      "cell_type": "code",
      "execution_count": 20,
      "metadata": {
        "id": "m27YhXeo6Svq"
      },
      "outputs": [],
      "source": [
        "# Verificando a quantidade de cada nota\n",
        "df['overall_rating'].value_counts()\n",
        "\n",
        "# Classificação dos dados em positivo e negativo\n",
        "df['label'] = np.where(df['overall_rating'] >= 3, 'pos', 'neg')"
      ]
    },
    {
      "cell_type": "code",
      "execution_count": 21,
      "metadata": {
        "colab": {
          "base_uri": "https://localhost:8080/"
        },
        "id": "uonx3iyzZ2xS",
        "outputId": "b11e8d3a-0161-4647-eeee-e4627bd7d171"
      },
      "outputs": [
        {
          "output_type": "execute_result",
          "data": {
            "text/plain": [
              "pos    31749\n",
              "neg     6917\n",
              "Name: label, dtype: int64"
            ]
          },
          "metadata": {},
          "execution_count": 21
        }
      ],
      "source": [
        "df['label'].value_counts()"
      ]
    },
    {
      "cell_type": "code",
      "execution_count": 22,
      "metadata": {
        "id": "mCN3NGoZ6dUr"
      },
      "outputs": [],
      "source": [
        "# Removendo linhas com valores nulos\n",
        "df.dropna(inplace=True, subset=['review_text'])"
      ]
    },
    {
      "cell_type": "code",
      "execution_count": 23,
      "metadata": {
        "id": "6tVOX7K_6evF"
      },
      "outputs": [],
      "source": [
        "# Instanciando countvectorizer\n",
        "vect = CountVectorizer()"
      ]
    },
    {
      "cell_type": "code",
      "execution_count": 24,
      "metadata": {
        "id": "QJ7Cbv4l6iA7"
      },
      "outputs": [],
      "source": [
        "# Separando em treino e teste\n",
        "X_train, X_test, y_train, y_test = train_test_split(df['review_text'], df['label'], test_size=0.2)"
      ]
    },
    {
      "cell_type": "code",
      "source": [
        "# fit and transform apenas no treino\n",
        "X_train = vect.fit_transform(X_train)\n",
        "\n",
        "# transform apenas no teste\n",
        "X_test = vect.transform(X_test)"
      ],
      "metadata": {
        "id": "MkCHYEq4zJ8-"
      },
      "execution_count": 25,
      "outputs": []
    },
    {
      "cell_type": "code",
      "execution_count": 26,
      "metadata": {
        "id": "JZfWvlcF6kPC",
        "colab": {
          "base_uri": "https://localhost:8080/",
          "height": 75
        },
        "outputId": "de22f55b-1daa-4b57-b0f4-4c4b582cdecd"
      },
      "outputs": [
        {
          "output_type": "execute_result",
          "data": {
            "text/plain": [
              "MultinomialNB()"
            ],
            "text/html": [
              "<style>#sk-container-id-2 {color: black;background-color: white;}#sk-container-id-2 pre{padding: 0;}#sk-container-id-2 div.sk-toggleable {background-color: white;}#sk-container-id-2 label.sk-toggleable__label {cursor: pointer;display: block;width: 100%;margin-bottom: 0;padding: 0.3em;box-sizing: border-box;text-align: center;}#sk-container-id-2 label.sk-toggleable__label-arrow:before {content: \"▸\";float: left;margin-right: 0.25em;color: #696969;}#sk-container-id-2 label.sk-toggleable__label-arrow:hover:before {color: black;}#sk-container-id-2 div.sk-estimator:hover label.sk-toggleable__label-arrow:before {color: black;}#sk-container-id-2 div.sk-toggleable__content {max-height: 0;max-width: 0;overflow: hidden;text-align: left;background-color: #f0f8ff;}#sk-container-id-2 div.sk-toggleable__content pre {margin: 0.2em;color: black;border-radius: 0.25em;background-color: #f0f8ff;}#sk-container-id-2 input.sk-toggleable__control:checked~div.sk-toggleable__content {max-height: 200px;max-width: 100%;overflow: auto;}#sk-container-id-2 input.sk-toggleable__control:checked~label.sk-toggleable__label-arrow:before {content: \"▾\";}#sk-container-id-2 div.sk-estimator input.sk-toggleable__control:checked~label.sk-toggleable__label {background-color: #d4ebff;}#sk-container-id-2 div.sk-label input.sk-toggleable__control:checked~label.sk-toggleable__label {background-color: #d4ebff;}#sk-container-id-2 input.sk-hidden--visually {border: 0;clip: rect(1px 1px 1px 1px);clip: rect(1px, 1px, 1px, 1px);height: 1px;margin: -1px;overflow: hidden;padding: 0;position: absolute;width: 1px;}#sk-container-id-2 div.sk-estimator {font-family: monospace;background-color: #f0f8ff;border: 1px dotted black;border-radius: 0.25em;box-sizing: border-box;margin-bottom: 0.5em;}#sk-container-id-2 div.sk-estimator:hover {background-color: #d4ebff;}#sk-container-id-2 div.sk-parallel-item::after {content: \"\";width: 100%;border-bottom: 1px solid gray;flex-grow: 1;}#sk-container-id-2 div.sk-label:hover label.sk-toggleable__label {background-color: #d4ebff;}#sk-container-id-2 div.sk-serial::before {content: \"\";position: absolute;border-left: 1px solid gray;box-sizing: border-box;top: 0;bottom: 0;left: 50%;z-index: 0;}#sk-container-id-2 div.sk-serial {display: flex;flex-direction: column;align-items: center;background-color: white;padding-right: 0.2em;padding-left: 0.2em;position: relative;}#sk-container-id-2 div.sk-item {position: relative;z-index: 1;}#sk-container-id-2 div.sk-parallel {display: flex;align-items: stretch;justify-content: center;background-color: white;position: relative;}#sk-container-id-2 div.sk-item::before, #sk-container-id-2 div.sk-parallel-item::before {content: \"\";position: absolute;border-left: 1px solid gray;box-sizing: border-box;top: 0;bottom: 0;left: 50%;z-index: -1;}#sk-container-id-2 div.sk-parallel-item {display: flex;flex-direction: column;z-index: 1;position: relative;background-color: white;}#sk-container-id-2 div.sk-parallel-item:first-child::after {align-self: flex-end;width: 50%;}#sk-container-id-2 div.sk-parallel-item:last-child::after {align-self: flex-start;width: 50%;}#sk-container-id-2 div.sk-parallel-item:only-child::after {width: 0;}#sk-container-id-2 div.sk-dashed-wrapped {border: 1px dashed gray;margin: 0 0.4em 0.5em 0.4em;box-sizing: border-box;padding-bottom: 0.4em;background-color: white;}#sk-container-id-2 div.sk-label label {font-family: monospace;font-weight: bold;display: inline-block;line-height: 1.2em;}#sk-container-id-2 div.sk-label-container {text-align: center;}#sk-container-id-2 div.sk-container {/* jupyter's `normalize.less` sets `[hidden] { display: none; }` but bootstrap.min.css set `[hidden] { display: none !important; }` so we also need the `!important` here to be able to override the default hidden behavior on the sphinx rendered scikit-learn.org. See: https://github.com/scikit-learn/scikit-learn/issues/21755 */display: inline-block !important;position: relative;}#sk-container-id-2 div.sk-text-repr-fallback {display: none;}</style><div id=\"sk-container-id-2\" class=\"sk-top-container\"><div class=\"sk-text-repr-fallback\"><pre>MultinomialNB()</pre><b>In a Jupyter environment, please rerun this cell to show the HTML representation or trust the notebook. <br />On GitHub, the HTML representation is unable to render, please try loading this page with nbviewer.org.</b></div><div class=\"sk-container\" hidden><div class=\"sk-item\"><div class=\"sk-estimator sk-toggleable\"><input class=\"sk-toggleable__control sk-hidden--visually\" id=\"sk-estimator-id-2\" type=\"checkbox\" checked><label for=\"sk-estimator-id-2\" class=\"sk-toggleable__label sk-toggleable__label-arrow\">MultinomialNB</label><div class=\"sk-toggleable__content\"><pre>MultinomialNB()</pre></div></div></div></div></div>"
            ]
          },
          "metadata": {},
          "execution_count": 26
        }
      ],
      "source": [
        "# Instanciando naive bayes   \n",
        "nb = MultinomialNB()\n",
        "\n",
        "# Treinando o modelo\n",
        "nb.fit(X_train, y_train)"
      ]
    },
    {
      "cell_type": "code",
      "execution_count": 27,
      "metadata": {
        "id": "WL4mvqRW6r1I",
        "colab": {
          "base_uri": "https://localhost:8080/"
        },
        "outputId": "ef30fb94-12fa-4cf0-cd3c-e28ee1b5f223"
      },
      "outputs": [
        {
          "output_type": "execute_result",
          "data": {
            "text/plain": [
              "array(['pos', 'pos', 'neg', ..., 'pos', 'pos', 'pos'], dtype='<U3')"
            ]
          },
          "metadata": {},
          "execution_count": 27
        }
      ],
      "source": [
        "nb.predict(X_test)"
      ]
    },
    {
      "cell_type": "code",
      "execution_count": 28,
      "metadata": {
        "id": "Bzl6mmFQZ2xW"
      },
      "outputs": [],
      "source": [
        "# Tokenização\n",
        "\n",
        "count_vectorizer = CountVectorizer() #instancia o objeto\n",
        "word_tokenizer = count_vectorizer.build_tokenizer() #cria o tokenizador\n",
        "neg_list = word_tokenizer('não nem nunca jamais tampouco') #lista de palavras negativas\n",
        "\n",
        "# Adiciona “NAO_” a cada palavra após neg_list até a próxima pontuação\n",
        "def add_negation(text):\n",
        "\n",
        "    text = text.lower() #deixa tudo em minúsculo\n",
        "    tokens = nltk.word_tokenize(text) #tokeniza\n",
        "    new_tokens = [] #lista de tokens\n",
        "    neg = False #flag para indicar se a palavra é negativa ou não\n",
        "\n",
        "\n",
        "    for token in tokens:\n",
        "        if token in neg_list: #se a palavra for negativa\n",
        "            neg = True #ativa a flag\n",
        "       \n",
        "        if token in ['.', '!', '?',',',';']: #se a palavra for pontuação\n",
        "            neg = False #desativa a flag\n",
        "\n",
        "        if neg and token not in neg_list: #se a palavra for negativa e não estiver na lista de negativas\n",
        "            token = 'NAO_' + token #adiciona NAO_ na frente da palavra\n",
        "        new_tokens.append(token) #adiciona a palavra na lista de tokens\n",
        "          \n",
        "            \n",
        "    return ' '.join(new_tokens) #retorna a lista de tokens como uma string\n",
        "\n",
        "\n",
        "df_nao['review_text'] = df_nao['review_text'].apply(add_negation) #aplica a função no dataset Nao_"
      ]
    },
    {
      "cell_type": "code",
      "execution_count": 29,
      "metadata": {
        "colab": {
          "base_uri": "https://localhost:8080/"
        },
        "id": "q7tc_BBRZ2xX",
        "outputId": "24805845-fdc1-43bc-97ca-2a038fe45609"
      },
      "outputs": [
        {
          "output_type": "execute_result",
          "data": {
            "text/plain": [
              "array(['pos', 'pos', 'pos', ..., 'pos', 'pos', 'neg'], dtype='<U3')"
            ]
          },
          "metadata": {},
          "execution_count": 29
        }
      ],
      "source": [
        "# Classificação dos dados em positivo e negativo\n",
        "df_nao['label'] = np.where(df_nao['overall_rating'] >= 3, 'pos', 'neg')\n",
        "\n",
        "# Removendo linhas com valores nulos\n",
        "df_nao.dropna(inplace=True, subset=['review_text'])\n",
        "\n",
        "# Instanciando countvectorizer\n",
        "vect_nao = CountVectorizer()\n",
        "\n",
        "# Separa os dados em treino e teste\n",
        "X_train_nao, X_test_nao, y_train_nao, y_test_nao = train_test_split(df_nao['review_text'], df_nao['label'], test_size=0.2)\n",
        "\n",
        "# Fit and transform apenas no treino\n",
        "X_train_nao = vect_nao.fit_transform(X_train_nao)\n",
        "\n",
        "# Transform apenas no teste\n",
        "X_test_nao = vect_nao.transform(X_test_nao)\n",
        "\n",
        "# Instancia naive bayes\n",
        "nb_nao = MultinomialNB()\n",
        "\n",
        "# Treina o modelo\n",
        "nb_nao.fit(X_train_nao, y_train_nao)\n",
        "\n",
        "nb_nao.predict(X_test_nao)"
      ]
    },
    {
      "cell_type": "code",
      "source": [
        "# Relatório de classficação\n",
        "print(\"Normal\")\n",
        "print(classification_report(y_test, nb.predict(X_test)))\n",
        "print('\\n')\n",
        "print(\"\\nCom NAO_\")\n",
        "print(classification_report(y_test_nao, nb_nao.predict(X_test_nao)))"
      ],
      "metadata": {
        "colab": {
          "base_uri": "https://localhost:8080/"
        },
        "id": "IQyGF3FHK7CZ",
        "outputId": "e4d73883-208c-40fb-c68d-7f60334bacc0"
      },
      "execution_count": 30,
      "outputs": [
        {
          "output_type": "stream",
          "name": "stdout",
          "text": [
            "Normal\n",
            "              precision    recall  f1-score   support\n",
            "\n",
            "         neg       0.77      0.83      0.80      1364\n",
            "         pos       0.96      0.95      0.95      6370\n",
            "\n",
            "    accuracy                           0.93      7734\n",
            "   macro avg       0.87      0.89      0.88      7734\n",
            "weighted avg       0.93      0.93      0.93      7734\n",
            "\n",
            "\n",
            "\n",
            "\n",
            "Com NAO_\n",
            "              precision    recall  f1-score   support\n",
            "\n",
            "         neg       0.75      0.83      0.79      1355\n",
            "         pos       0.96      0.94      0.95      6379\n",
            "\n",
            "    accuracy                           0.92      7734\n",
            "   macro avg       0.86      0.89      0.87      7734\n",
            "weighted avg       0.93      0.92      0.92      7734\n",
            "\n"
          ]
        }
      ]
    },
    {
      "cell_type": "code",
      "source": [
        "# Com NAO_\n",
        "my_input = ['não gostei da televisão, jamais comprarei']\n",
        "my_input = [add_negation(my_input[0])]\n",
        "\n",
        "my_input_vect = vect_nao.transform(my_input)\n",
        "\n",
        "nb_nao.predict(my_input_vect)"
      ],
      "metadata": {
        "colab": {
          "base_uri": "https://localhost:8080/"
        },
        "id": "vqJxbtanMO5f",
        "outputId": "ec8f3a9f-b0dc-4368-d0f1-00c3d8ba7943"
      },
      "execution_count": 31,
      "outputs": [
        {
          "output_type": "execute_result",
          "data": {
            "text/plain": [
              "array(['neg'], dtype='<U3')"
            ]
          },
          "metadata": {},
          "execution_count": 31
        }
      ]
    },
    {
      "cell_type": "code",
      "source": [
        "#Normal\n",
        "my_input2 = ['não gostei da televisão, jamais comprarei']\n",
        "\n",
        "my_input_vect2 = vect.transform(my_input2)\n",
        "\n",
        "nb.predict(my_input_vect2)"
      ],
      "metadata": {
        "colab": {
          "base_uri": "https://localhost:8080/"
        },
        "id": "RMf7vXY_NITW",
        "outputId": "45696f84-1421-45cd-8501-b108dcb8f44c"
      },
      "execution_count": 32,
      "outputs": [
        {
          "output_type": "execute_result",
          "data": {
            "text/plain": [
              "array(['pos'], dtype='<U3')"
            ]
          },
          "metadata": {},
          "execution_count": 32
        }
      ]
    },
    {
      "cell_type": "markdown",
      "source": [
        "### Os dados que foram tratados com o prefixo NAO_ apresentam uma acertividade maior em sentenças negativas. Isso se da pelo fato dele punir palavras com um peso muito grande, nesse caso a palavra \"gostei\"."
      ],
      "metadata": {
        "id": "aNiGTgHD3Y7T"
      }
    }
  ],
  "metadata": {
    "colab": {
      "provenance": []
    },
    "kernelspec": {
      "display_name": "Python 3.10.5 64-bit",
      "language": "python",
      "name": "python3"
    },
    "language_info": {
      "codemirror_mode": {
        "name": "ipython",
        "version": 3
      },
      "file_extension": ".py",
      "mimetype": "text/x-python",
      "name": "python",
      "nbconvert_exporter": "python",
      "pygments_lexer": "ipython3",
      "version": "3.10.5"
    },
    "vscode": {
      "interpreter": {
        "hash": "767c48a64caae0be89fa7f8f777746ad491056046165076895ba67746a6851de"
      }
    }
  },
  "nbformat": 4,
  "nbformat_minor": 0
}