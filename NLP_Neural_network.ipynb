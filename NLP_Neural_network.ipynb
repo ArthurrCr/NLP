{
  "cells": [
    {
      "cell_type": "markdown",
      "source": [
        "### Descrição:\n",
        "\n",
        "#### O objetivo deste exercício é treinar e avaliar uma rede neural para classificar um conjunto de dados sobre notícias de acordo com suas categorias.\n",
        "A rede neural pode ser criada utilizando o PyTorch ou Tensorflow/Keras. A rede\n",
        "neural deve ser avaliada através do cálculo da acurácia (quantidade de acertos\n",
        "dividido pela quantidade total de testes).\n"
      ],
      "metadata": {
        "id": "51p9iDUV5PmU"
      }
    },
    {
      "cell_type": "code",
      "source": [
        "!pip install datasets"
      ],
      "metadata": {
        "colab": {
          "base_uri": "https://localhost:8080/"
        },
        "id": "WT8J3LGYFHoZ",
        "outputId": "255b6849-9dd8-40e3-e64c-25affbf166c7"
      },
      "execution_count": 1,
      "outputs": [
        {
          "output_type": "stream",
          "name": "stdout",
          "text": [
            "Looking in indexes: https://pypi.org/simple, https://us-python.pkg.dev/colab-wheels/public/simple/\n",
            "Requirement already satisfied: datasets in /usr/local/lib/python3.9/dist-packages (2.11.0)\n",
            "Requirement already satisfied: requests>=2.19.0 in /usr/local/lib/python3.9/dist-packages (from datasets) (2.27.1)\n",
            "Requirement already satisfied: aiohttp in /usr/local/lib/python3.9/dist-packages (from datasets) (3.8.4)\n",
            "Requirement already satisfied: tqdm>=4.62.1 in /usr/local/lib/python3.9/dist-packages (from datasets) (4.65.0)\n",
            "Requirement already satisfied: pandas in /usr/local/lib/python3.9/dist-packages (from datasets) (1.5.3)\n",
            "Requirement already satisfied: pyyaml>=5.1 in /usr/local/lib/python3.9/dist-packages (from datasets) (6.0)\n",
            "Requirement already satisfied: responses<0.19 in /usr/local/lib/python3.9/dist-packages (from datasets) (0.18.0)\n",
            "Requirement already satisfied: numpy>=1.17 in /usr/local/lib/python3.9/dist-packages (from datasets) (1.22.4)\n",
            "Requirement already satisfied: packaging in /usr/local/lib/python3.9/dist-packages (from datasets) (23.1)\n",
            "Requirement already satisfied: xxhash in /usr/local/lib/python3.9/dist-packages (from datasets) (3.2.0)\n",
            "Requirement already satisfied: multiprocess in /usr/local/lib/python3.9/dist-packages (from datasets) (0.70.14)\n",
            "Requirement already satisfied: dill<0.3.7,>=0.3.0 in /usr/local/lib/python3.9/dist-packages (from datasets) (0.3.6)\n",
            "Requirement already satisfied: huggingface-hub<1.0.0,>=0.11.0 in /usr/local/lib/python3.9/dist-packages (from datasets) (0.13.4)\n",
            "Requirement already satisfied: fsspec[http]>=2021.11.1 in /usr/local/lib/python3.9/dist-packages (from datasets) (2023.4.0)\n",
            "Requirement already satisfied: pyarrow>=8.0.0 in /usr/local/lib/python3.9/dist-packages (from datasets) (9.0.0)\n",
            "Requirement already satisfied: async-timeout<5.0,>=4.0.0a3 in /usr/local/lib/python3.9/dist-packages (from aiohttp->datasets) (4.0.2)\n",
            "Requirement already satisfied: attrs>=17.3.0 in /usr/local/lib/python3.9/dist-packages (from aiohttp->datasets) (23.1.0)\n",
            "Requirement already satisfied: multidict<7.0,>=4.5 in /usr/local/lib/python3.9/dist-packages (from aiohttp->datasets) (6.0.4)\n",
            "Requirement already satisfied: charset-normalizer<4.0,>=2.0 in /usr/local/lib/python3.9/dist-packages (from aiohttp->datasets) (2.0.12)\n",
            "Requirement already satisfied: yarl<2.0,>=1.0 in /usr/local/lib/python3.9/dist-packages (from aiohttp->datasets) (1.8.2)\n",
            "Requirement already satisfied: frozenlist>=1.1.1 in /usr/local/lib/python3.9/dist-packages (from aiohttp->datasets) (1.3.3)\n",
            "Requirement already satisfied: aiosignal>=1.1.2 in /usr/local/lib/python3.9/dist-packages (from aiohttp->datasets) (1.3.1)\n",
            "Requirement already satisfied: typing-extensions>=3.7.4.3 in /usr/local/lib/python3.9/dist-packages (from huggingface-hub<1.0.0,>=0.11.0->datasets) (4.5.0)\n",
            "Requirement already satisfied: filelock in /usr/local/lib/python3.9/dist-packages (from huggingface-hub<1.0.0,>=0.11.0->datasets) (3.11.0)\n",
            "Requirement already satisfied: certifi>=2017.4.17 in /usr/local/lib/python3.9/dist-packages (from requests>=2.19.0->datasets) (2022.12.7)\n",
            "Requirement already satisfied: urllib3<1.27,>=1.21.1 in /usr/local/lib/python3.9/dist-packages (from requests>=2.19.0->datasets) (1.26.15)\n",
            "Requirement already satisfied: idna<4,>=2.5 in /usr/local/lib/python3.9/dist-packages (from requests>=2.19.0->datasets) (3.4)\n",
            "Requirement already satisfied: pytz>=2020.1 in /usr/local/lib/python3.9/dist-packages (from pandas->datasets) (2022.7.1)\n",
            "Requirement already satisfied: python-dateutil>=2.8.1 in /usr/local/lib/python3.9/dist-packages (from pandas->datasets) (2.8.2)\n",
            "Requirement already satisfied: six>=1.5 in /usr/local/lib/python3.9/dist-packages (from python-dateutil>=2.8.1->pandas->datasets) (1.16.0)\n"
          ]
        }
      ]
    },
    {
      "cell_type": "code",
      "execution_count": 2,
      "metadata": {
        "id": "OjZvNGQQgIdE"
      },
      "outputs": [],
      "source": [
        "import torch\n",
        "import datasets\n",
        "from torchtext.data.utils import get_tokenizer\n",
        "from torchtext.vocab import build_vocab_from_iterator\n",
        "from torch.utils.data import Dataset, DataLoader\n",
        "from torch import nn\n",
        "from tqdm import tqdm\n",
        "import matplotlib.pyplot as plt\n",
        "import numpy as np"
      ]
    },
    {
      "cell_type": "code",
      "execution_count": 3,
      "metadata": {
        "colab": {
          "base_uri": "https://localhost:8080/",
          "height": 86,
          "referenced_widgets": [
            "c78ea53b0a784fa39755230418881a93",
            "9f976e84e86d42e7b18fd05bd85ef80a",
            "583285c2bf7e45868dd7cec8f02a0db3",
            "1da17ff146ab42c0a5b75fedb494ae6d",
            "022ac8def08b4dd9b73d61af067d084f",
            "54b2cdbaffa94c2f8bba80f0f2abae9f",
            "b57db2015d3b46cab070826bd8e929a6",
            "91e7ca8f10ba47d99247747846258111",
            "562eec751bbf48068376f3a6a7c415e7",
            "63a81558b3b14662abe2e954b4d08cc7",
            "d912b0778d0c4e9392dbf11d844efa6c"
          ]
        },
        "id": "7oC8U-fkgIdF",
        "outputId": "8e19d667-afab-4301-e443-8341cec61f8d"
      },
      "outputs": [
        {
          "output_type": "stream",
          "name": "stderr",
          "text": [
            "WARNING:datasets.builder:Found cached dataset csv (/root/.cache/huggingface/datasets/okite97___csv/okite97--news-data-40e98cfd881f0955/0.0.0/6954658bab30a358235fa864b05cf819af0e179325c740e4bc853bcc7ec513e1)\n"
          ]
        },
        {
          "output_type": "display_data",
          "data": {
            "text/plain": [
              "  0%|          | 0/2 [00:00<?, ?it/s]"
            ],
            "application/vnd.jupyter.widget-view+json": {
              "version_major": 2,
              "version_minor": 0,
              "model_id": "c78ea53b0a784fa39755230418881a93"
            }
          },
          "metadata": {}
        }
      ],
      "source": [
        "dataset = datasets.load_dataset(\"okite97/news-data\")"
      ]
    },
    {
      "cell_type": "code",
      "execution_count": 4,
      "metadata": {
        "colab": {
          "base_uri": "https://localhost:8080/"
        },
        "id": "dga4rDXFgIdF",
        "outputId": "50fd25af-429b-4b3f-8760-525be8ff2eaa"
      },
      "outputs": [
        {
          "output_type": "execute_result",
          "data": {
            "text/plain": [
              "DatasetDict({\n",
              "    train: Dataset({\n",
              "        features: ['Title', 'Excerpt', 'Category'],\n",
              "        num_rows: 4686\n",
              "    })\n",
              "    test: Dataset({\n",
              "        features: ['Title', 'Excerpt', 'Category'],\n",
              "        num_rows: 828\n",
              "    })\n",
              "})"
            ]
          },
          "metadata": {},
          "execution_count": 4
        }
      ],
      "source": [
        "dataset"
      ]
    },
    {
      "cell_type": "code",
      "execution_count": 5,
      "metadata": {
        "colab": {
          "base_uri": "https://localhost:8080/",
          "height": 53
        },
        "id": "YCuQizG6gIdG",
        "outputId": "b4aa5258-5df3-4465-a0fd-8b0697edef36"
      },
      "outputs": [
        {
          "output_type": "execute_result",
          "data": {
            "text/plain": [
              "\"Nigerian Senators have commenced legislative activities for the year by asking\\xa0the country's President, Muhammadu Buhari to\\xa0direct\\xa0the National Security Adviser, the\""
            ],
            "application/vnd.google.colaboratory.intrinsic+json": {
              "type": "string"
            }
          },
          "metadata": {},
          "execution_count": 5
        }
      ],
      "source": [
        "dataset['train']['Excerpt'][7] # Exemplo de texto"
      ]
    },
    {
      "cell_type": "code",
      "execution_count": 6,
      "metadata": {
        "colab": {
          "base_uri": "https://localhost:8080/",
          "height": 35
        },
        "id": "yMFaaxPMgIdH",
        "outputId": "d459d32e-3c24-413d-89d0-df7009aff8d5"
      },
      "outputs": [
        {
          "output_type": "execute_result",
          "data": {
            "text/plain": [
              "'politics'"
            ],
            "application/vnd.google.colaboratory.intrinsic+json": {
              "type": "string"
            }
          },
          "metadata": {},
          "execution_count": 6
        }
      ],
      "source": [
        "dataset['train']['Category'][7] # Exemplo de label"
      ]
    },
    {
      "cell_type": "code",
      "execution_count": 7,
      "metadata": {
        "id": "MTnstVhYgIdH"
      },
      "outputs": [],
      "source": [
        "tokenizer = get_tokenizer('basic_english') # Tokenizador básico do torchtext"
      ]
    },
    {
      "cell_type": "code",
      "execution_count": 8,
      "metadata": {
        "id": "sTqt5p5VgIdI"
      },
      "outputs": [],
      "source": [
        "def split_tokens(row):\n",
        "    row['tokens'] = tokenizer(row['Excerpt']) # Tokeniza o texto\n",
        "    return row # Retorna o texto tokenizado"
      ]
    },
    {
      "cell_type": "code",
      "execution_count": 9,
      "metadata": {
        "colab": {
          "base_uri": "https://localhost:8080/"
        },
        "id": "IctitT1xgIdJ",
        "outputId": "c68f5cd5-55d9-4902-9628-c254f1399079"
      },
      "outputs": [
        {
          "output_type": "stream",
          "name": "stderr",
          "text": [
            "WARNING:datasets.arrow_dataset:Loading cached processed dataset at /root/.cache/huggingface/datasets/okite97___csv/okite97--news-data-40e98cfd881f0955/0.0.0/6954658bab30a358235fa864b05cf819af0e179325c740e4bc853bcc7ec513e1/cache-d582f6ffd5a5efad.arrow\n",
            "WARNING:datasets.arrow_dataset:Loading cached processed dataset at /root/.cache/huggingface/datasets/okite97___csv/okite97--news-data-40e98cfd881f0955/0.0.0/6954658bab30a358235fa864b05cf819af0e179325c740e4bc853bcc7ec513e1/cache-76e918a83060c00d.arrow\n"
          ]
        }
      ],
      "source": [
        "dataset = dataset.map(split_tokens) # Aplica a função de tokenização"
      ]
    },
    {
      "cell_type": "code",
      "execution_count": 10,
      "metadata": {
        "colab": {
          "base_uri": "https://localhost:8080/"
        },
        "id": "m-fAPI59nsGj",
        "outputId": "08fdf669-2499-4a4c-8ffb-503b4dbe4a6f"
      },
      "outputs": [
        {
          "output_type": "execute_result",
          "data": {
            "text/plain": [
              "DatasetDict({\n",
              "    train: Dataset({\n",
              "        features: ['Title', 'Excerpt', 'Category', 'tokens'],\n",
              "        num_rows: 4686\n",
              "    })\n",
              "    test: Dataset({\n",
              "        features: ['Title', 'Excerpt', 'Category', 'tokens'],\n",
              "        num_rows: 828\n",
              "    })\n",
              "})"
            ]
          },
          "metadata": {},
          "execution_count": 10
        }
      ],
      "source": [
        "dataset"
      ]
    },
    {
      "cell_type": "code",
      "execution_count": 11,
      "metadata": {
        "id": "Z6A5QvF_gIdK"
      },
      "outputs": [],
      "source": [
        "vocab = build_vocab_from_iterator(dataset['train']['tokens'], max_tokens=10000, specials=['<unk>'])  # Cria o vocabulário\n",
        "\n",
        "vocab.set_default_index(vocab['<unk>']) # Define o índice padrão\n"
      ]
    },
    {
      "cell_type": "code",
      "execution_count": 12,
      "metadata": {
        "id": "rw43i7QfgIdK"
      },
      "outputs": [],
      "source": [
        "def token2id(row):\n",
        "    row['tokens_id'] = vocab(row['tokens']) # Transforma os tokens em índices\n",
        "    return row"
      ]
    },
    {
      "cell_type": "code",
      "execution_count": 13,
      "metadata": {
        "colab": {
          "base_uri": "https://localhost:8080/"
        },
        "id": "diXLzfUtgIdL",
        "outputId": "7bc990c3-eed7-41f4-f93d-46d0cc6389a8"
      },
      "outputs": [
        {
          "output_type": "stream",
          "name": "stderr",
          "text": [
            "WARNING:datasets.arrow_dataset:Loading cached processed dataset at /root/.cache/huggingface/datasets/okite97___csv/okite97--news-data-40e98cfd881f0955/0.0.0/6954658bab30a358235fa864b05cf819af0e179325c740e4bc853bcc7ec513e1/cache-2efb20bcb8e1a626.arrow\n",
            "WARNING:datasets.arrow_dataset:Loading cached processed dataset at /root/.cache/huggingface/datasets/okite97___csv/okite97--news-data-40e98cfd881f0955/0.0.0/6954658bab30a358235fa864b05cf819af0e179325c740e4bc853bcc7ec513e1/cache-c67ebfffb4d23c0d.arrow\n"
          ]
        }
      ],
      "source": [
        "dataset = dataset.map(token2id)"
      ]
    },
    {
      "cell_type": "code",
      "execution_count": 14,
      "metadata": {
        "colab": {
          "base_uri": "https://localhost:8080/"
        },
        "id": "2LiP_gKPEs9t",
        "outputId": "7e08fad0-17e3-4362-960b-5aee71248bab"
      },
      "outputs": [
        {
          "output_type": "stream",
          "name": "stderr",
          "text": [
            "WARNING:datasets.arrow_dataset:Loading cached processed dataset at /root/.cache/huggingface/datasets/okite97___csv/okite97--news-data-40e98cfd881f0955/0.0.0/6954658bab30a358235fa864b05cf819af0e179325c740e4bc853bcc7ec513e1/cache-018004bfa8165f23.arrow\n",
            "WARNING:datasets.arrow_dataset:Loading cached processed dataset at /root/.cache/huggingface/datasets/okite97___csv/okite97--news-data-40e98cfd881f0955/0.0.0/6954658bab30a358235fa864b05cf819af0e179325c740e4bc853bcc7ec513e1/cache-973b429ceff3f128.arrow\n"
          ]
        }
      ],
      "source": [
        "# Codificação de rótulo para o modelo de classificação multiclasse\n",
        "def category2id(row):\n",
        "    if row['Category'] == 'business':\n",
        "        row['Category'] = 0\n",
        "    elif row['Category'] == 'entertainment':\n",
        "        row['Category'] = 1\n",
        "    elif row['Category'] == 'politics':\n",
        "        row['Category'] = 2\n",
        "    elif row['Category'] == 'sports':\n",
        "        row['Category'] = 3\n",
        "    elif row['Category'] == 'tech':\n",
        "        row['Category'] = 4\n",
        "    elif row['Category'] == 'health':\n",
        "        row['Category'] = 5\n",
        "    return row\n",
        "\n",
        "dataset = dataset.map(category2id)"
      ]
    },
    {
      "cell_type": "code",
      "execution_count": 15,
      "metadata": {
        "colab": {
          "base_uri": "https://localhost:8080/"
        },
        "id": "PYAqA_CTEs9u",
        "outputId": "e18b98a3-207d-4bb2-e240-ea76ff5826d2"
      },
      "outputs": [
        {
          "output_type": "stream",
          "name": "stderr",
          "text": [
            "WARNING:datasets.arrow_dataset:Loading cached processed dataset at /root/.cache/huggingface/datasets/okite97___csv/okite97--news-data-40e98cfd881f0955/0.0.0/6954658bab30a358235fa864b05cf819af0e179325c740e4bc853bcc7ec513e1/cache-15adeb41cc1460f1.arrow\n",
            "WARNING:datasets.arrow_dataset:Loading cached processed dataset at /root/.cache/huggingface/datasets/okite97___csv/okite97--news-data-40e98cfd881f0955/0.0.0/6954658bab30a358235fa864b05cf819af0e179325c740e4bc853bcc7ec513e1/cache-232ee48e7ba40436.arrow\n"
          ]
        }
      ],
      "source": [
        "# Tranforma Category em one hot encoding\n",
        "def category2onehot(row):\n",
        "    if row['Category'] == 0:\n",
        "        row['Category'] = [1,0,0,0,0,0]\n",
        "    elif row['Category'] == 1:\n",
        "        row['Category'] = [0,1,0,0,0,0]\n",
        "    elif row['Category'] == 2:\n",
        "        row['Category'] = [0,0,1,0,0,0]\n",
        "    elif row['Category'] == 3:\n",
        "        row['Category'] = [0,0,0,1,0,0]\n",
        "    elif row['Category'] == 4:\n",
        "        row['Category'] = [0,0,0,0,1,0]\n",
        "    elif row['Category'] == 5:\n",
        "        row['Category'] = [0,0,0,0,0,1]\n",
        "    return row\n",
        "\n",
        "dataset = dataset.map(category2onehot)"
      ]
    },
    {
      "cell_type": "code",
      "execution_count": 16,
      "metadata": {
        "colab": {
          "base_uri": "https://localhost:8080/"
        },
        "id": "816efYzgEs9v",
        "outputId": "ec8788c5-2d12-4a18-cf08-ae1bbe27421f"
      },
      "outputs": [
        {
          "output_type": "execute_result",
          "data": {
            "text/plain": [
              "[0, 0, 1, 0, 0, 0]"
            ]
          },
          "metadata": {},
          "execution_count": 16
        }
      ],
      "source": [
        "dataset['train']['Category'][7]"
      ]
    },
    {
      "cell_type": "code",
      "execution_count": 17,
      "metadata": {
        "colab": {
          "base_uri": "https://localhost:8080/"
        },
        "id": "EIW_K_rLEs9v",
        "outputId": "feb6ed39-0d14-47df-b249-7a42b21832a2"
      },
      "outputs": [
        {
          "output_type": "execute_result",
          "data": {
            "text/plain": [
              "DatasetDict({\n",
              "    train: Dataset({\n",
              "        features: ['Title', 'Excerpt', 'Category', 'tokens', 'tokens_id'],\n",
              "        num_rows: 4686\n",
              "    })\n",
              "    test: Dataset({\n",
              "        features: ['Title', 'Excerpt', 'Category', 'tokens', 'tokens_id'],\n",
              "        num_rows: 828\n",
              "    })\n",
              "})"
            ]
          },
          "metadata": {},
          "execution_count": 17
        }
      ],
      "source": [
        "dataset"
      ]
    },
    {
      "cell_type": "code",
      "execution_count": 18,
      "metadata": {
        "id": "F9gHpbH5gIdM"
      },
      "outputs": [],
      "source": [
        "class NewsDataset(Dataset):\n",
        "  def __init__(self, dataset, vocab_size): # Construtor\n",
        "    self.dataset = dataset # Dicionário com os dados\n",
        "    self.vocab_size = vocab_size # Tamanho do vocabulário\n",
        "    self.data = dataset['tokens_id'] # Dados de entrada\n",
        "\n",
        "  def __len__(self):\n",
        "    return len(self.data) # Retorna o tamanho do dataset\n",
        "\n",
        "  def __getitem__(self, idx): # Retorna um item do dataset\n",
        "    result = torch.zeros(self.vocab_size) # Cria um vetor de zeros\n",
        "    # Retorna o vetor de entrada e o rótulo\n",
        "    return result.index_fill(0, torch.tensor(self.data[idx]), 1), torch.tensor(self.dataset['Category'][idx], dtype=torch.float32)"
      ]
    },
    {
      "cell_type": "code",
      "execution_count": 19,
      "metadata": {
        "id": "Iv54E9J0gIdN"
      },
      "outputs": [],
      "source": [
        "BATCH_SIZE = 2048  # Tamanho do batch\n",
        "dataloader = DataLoader(NewsDataset(dataset['train'], len(vocab)),\n",
        "                        batch_size=BATCH_SIZE, shuffle=True) # Cria o dataloader"
      ]
    },
    {
      "cell_type": "code",
      "execution_count": 20,
      "metadata": {
        "colab": {
          "base_uri": "https://localhost:8080/"
        },
        "id": "jvl__Xm4Es9w",
        "outputId": "1304b9ac-3b43-419c-cea9-19838ed8bbd6"
      },
      "outputs": [
        {
          "output_type": "execute_result",
          "data": {
            "text/plain": [
              "<torch.utils.data.dataloader.DataLoader at 0x7f6eba2e3670>"
            ]
          },
          "metadata": {},
          "execution_count": 20
        }
      ],
      "source": [
        "dataloader"
      ]
    },
    {
      "cell_type": "code",
      "execution_count": 21,
      "metadata": {
        "colab": {
          "base_uri": "https://localhost:8080/"
        },
        "id": "fDOURzDGtniZ",
        "outputId": "02d65903-106a-48f9-f679-0569fbce9134"
      },
      "outputs": [
        {
          "output_type": "stream",
          "name": "stdout",
          "text": [
            "X shape:  torch.Size([2048, 10000])\n",
            "y shape:  torch.Size([2048, 6]) torch.float32\n"
          ]
        }
      ],
      "source": [
        "for X, y in dataloader:\n",
        "    print('X shape: ', X.shape) # Tamanho do batch x tamanho do vocabulário\n",
        "    print('y shape: ', y.shape, y.dtype) # Tamanho do batch x 1\n",
        "    break"
      ]
    },
    {
      "cell_type": "code",
      "execution_count": 22,
      "metadata": {
        "id": "2j-1y8QrgIdN"
      },
      "outputs": [],
      "source": [
        "class TextClassifier(nn.Module):\n",
        "  def __init__(self, vocab_size): # Construtor\n",
        "    super(TextClassifier, self).__init__() # Chama o construtor da classe pai\n",
        "\n",
        "    self.linear_stack = nn.Sequential(\n",
        "        nn.Linear(vocab_size, 16), # Camada linear de entrada 16 neurônios\n",
        "        nn.ReLU(), # Função de ativação ReLU\n",
        "        nn.Linear(16, 16), # Camada linear oculta\n",
        "        nn.ReLU(), # Função de ativação ReLU\n",
        "        nn.Linear(16, 6), # Camada linear de saída 6 classes\n",
        "        nn.Softmax() # Função de ativação softmax para classificação multiclasse\n",
        "    ) # Cria a pilha de camadas lineares\n",
        "\n",
        "  def forward(self, input):\n",
        "    return self.linear_stack(input) # Executa a pilha de camadas lineares"
      ]
    },
    {
      "cell_type": "code",
      "execution_count": 23,
      "metadata": {
        "id": "A4QvOAgzEs9y"
      },
      "outputs": [],
      "source": [
        "model = TextClassifier(len(vocab)) # Cria o modelo"
      ]
    },
    {
      "cell_type": "code",
      "execution_count": 24,
      "metadata": {
        "colab": {
          "base_uri": "https://localhost:8080/"
        },
        "id": "f6wLJ7wwgIdP",
        "outputId": "f2939a31-bb2a-4f6e-a304-0e880c76945d"
      },
      "outputs": [
        {
          "output_type": "execute_result",
          "data": {
            "text/plain": [
              "TextClassifier(\n",
              "  (linear_stack): Sequential(\n",
              "    (0): Linear(in_features=10000, out_features=16, bias=True)\n",
              "    (1): ReLU()\n",
              "    (2): Linear(in_features=16, out_features=16, bias=True)\n",
              "    (3): ReLU()\n",
              "    (4): Linear(in_features=16, out_features=6, bias=True)\n",
              "    (5): Softmax(dim=None)\n",
              "  )\n",
              ")"
            ]
          },
          "metadata": {},
          "execution_count": 24
        }
      ],
      "source": [
        "device = torch.device('cuda' if torch.cuda.is_available() else 'cpu')\n",
        "model.to(device) # Move o modelo para a GPU se disponível"
      ]
    },
    {
      "cell_type": "code",
      "execution_count": 25,
      "metadata": {
        "id": "v9XO85pAgIdQ"
      },
      "outputs": [],
      "source": [
        "LR = 1e-2 # Taxa de aprendizado\n",
        "EPOCHS = 25 # Número de épocas\n",
        "loss_fn = nn.CrossEntropyLoss() # Função de perda\n",
        "optimizer = torch.optim.Adam(model.parameters(), lr=LR) # Otimizador"
      ]
    },
    {
      "cell_type": "code",
      "execution_count": 26,
      "metadata": {
        "colab": {
          "base_uri": "https://localhost:8080/"
        },
        "id": "FHefWevlgIdQ",
        "outputId": "6cce250c-781e-4a3f-eafe-40dd6ec033a3"
      },
      "outputs": [
        {
          "metadata": {
            "tags": null
          },
          "name": "stderr",
          "output_type": "stream",
          "text": [
            "  0%|          | 0/75 [00:00<?, ?it/s]/usr/local/lib/python3.9/dist-packages/torch/nn/modules/container.py:217: UserWarning: Implicit dimension choice for softmax has been deprecated. Change the call to include dim=X as an argument.\n",
            "  input = module(input)\n",
            "  4%|▍         | 3/75 [01:41<35:54, 29.93s/it]"
          ]
        },
        {
          "metadata": {
            "tags": null
          },
          "name": "stdout",
          "output_type": "stream",
          "text": [
            "epoch loss: 1.7912263075510662\n"
          ]
        },
        {
          "metadata": {
            "tags": null
          },
          "name": "stderr",
          "output_type": "stream",
          "text": [
            "  8%|▊         | 6/75 [03:19<33:28, 29.11s/it]"
          ]
        },
        {
          "metadata": {
            "tags": null
          },
          "name": "stdout",
          "output_type": "stream",
          "text": [
            "epoch loss: 1.7748566071192424\n"
          ]
        },
        {
          "metadata": {
            "tags": null
          },
          "name": "stderr",
          "output_type": "stream",
          "text": [
            " 12%|█▏        | 9/75 [04:54<31:24, 28.55s/it]"
          ]
        },
        {
          "metadata": {
            "tags": null
          },
          "name": "stdout",
          "output_type": "stream",
          "text": [
            "epoch loss: 1.7473316192626953\n"
          ]
        },
        {
          "metadata": {
            "tags": null
          },
          "name": "stderr",
          "output_type": "stream",
          "text": [
            " 16%|█▌        | 12/75 [06:32<30:13, 28.79s/it]"
          ]
        },
        {
          "metadata": {
            "tags": null
          },
          "name": "stdout",
          "output_type": "stream",
          "text": [
            "epoch loss: 1.706578532854716\n"
          ]
        },
        {
          "metadata": {
            "tags": null
          },
          "name": "stderr",
          "output_type": "stream",
          "text": [
            " 20%|██        | 15/75 [08:08<28:26, 28.44s/it]"
          ]
        },
        {
          "metadata": {
            "tags": null
          },
          "name": "stdout",
          "output_type": "stream",
          "text": [
            "epoch loss: 1.6519519885381062\n"
          ]
        },
        {
          "output_type": "stream",
          "name": "stderr",
          "text": [
            " 24%|██▍       | 18/75 [09:44<26:52, 28.29s/it]"
          ]
        },
        {
          "output_type": "stream",
          "name": "stdout",
          "text": [
            "epoch loss: 1.5708800554275513\n"
          ]
        },
        {
          "output_type": "stream",
          "name": "stderr",
          "text": [
            " 28%|██▊       | 21/75 [11:18<25:07, 27.91s/it]"
          ]
        },
        {
          "output_type": "stream",
          "name": "stdout",
          "text": [
            "epoch loss: 1.4666648308436077\n"
          ]
        },
        {
          "output_type": "stream",
          "name": "stderr",
          "text": [
            " 32%|███▏      | 24/75 [12:50<23:10, 27.27s/it]"
          ]
        },
        {
          "output_type": "stream",
          "name": "stdout",
          "text": [
            "epoch loss: 1.355458656946818\n"
          ]
        },
        {
          "output_type": "stream",
          "name": "stderr",
          "text": [
            " 36%|███▌      | 27/75 [14:22<21:50, 27.30s/it]"
          ]
        },
        {
          "output_type": "stream",
          "name": "stdout",
          "text": [
            "epoch loss: 1.2579871813456218\n"
          ]
        },
        {
          "output_type": "stream",
          "name": "stderr",
          "text": [
            " 40%|████      | 30/75 [15:53<20:08, 26.87s/it]"
          ]
        },
        {
          "output_type": "stream",
          "name": "stdout",
          "text": [
            "epoch loss: 1.1935805082321167\n"
          ]
        },
        {
          "output_type": "stream",
          "name": "stderr",
          "text": [
            " 44%|████▍     | 33/75 [17:24<18:48, 26.88s/it]"
          ]
        },
        {
          "output_type": "stream",
          "name": "stdout",
          "text": [
            "epoch loss: 1.156364917755127\n"
          ]
        },
        {
          "output_type": "stream",
          "name": "stderr",
          "text": [
            " 48%|████▊     | 36/75 [18:56<17:34, 27.03s/it]"
          ]
        },
        {
          "output_type": "stream",
          "name": "stdout",
          "text": [
            "epoch loss: 1.1374239921569824\n"
          ]
        },
        {
          "output_type": "stream",
          "name": "stderr",
          "text": [
            " 52%|█████▏    | 39/75 [20:27<16:06, 26.86s/it]"
          ]
        },
        {
          "output_type": "stream",
          "name": "stdout",
          "text": [
            "epoch loss: 1.1357892751693726\n"
          ]
        },
        {
          "output_type": "stream",
          "name": "stderr",
          "text": [
            " 56%|█████▌    | 42/75 [21:57<14:46, 26.86s/it]"
          ]
        },
        {
          "output_type": "stream",
          "name": "stdout",
          "text": [
            "epoch loss: 1.1252669095993042\n"
          ]
        },
        {
          "output_type": "stream",
          "name": "stderr",
          "text": [
            " 60%|██████    | 45/75 [23:28<13:24, 26.80s/it]"
          ]
        },
        {
          "output_type": "stream",
          "name": "stdout",
          "text": [
            "epoch loss: 1.1189537048339844\n"
          ]
        },
        {
          "output_type": "stream",
          "name": "stderr",
          "text": [
            " 64%|██████▍   | 48/75 [25:00<12:07, 26.95s/it]"
          ]
        },
        {
          "output_type": "stream",
          "name": "stdout",
          "text": [
            "epoch loss: 1.1239902973175049\n"
          ]
        },
        {
          "output_type": "stream",
          "name": "stderr",
          "text": [
            " 68%|██████▊   | 51/75 [26:30<10:43, 26.80s/it]"
          ]
        },
        {
          "output_type": "stream",
          "name": "stdout",
          "text": [
            "epoch loss: 1.1151607831319172\n"
          ]
        },
        {
          "output_type": "stream",
          "name": "stderr",
          "text": [
            " 72%|███████▏  | 54/75 [28:02<09:26, 26.98s/it]"
          ]
        },
        {
          "output_type": "stream",
          "name": "stdout",
          "text": [
            "epoch loss: 1.1102176109949748\n"
          ]
        },
        {
          "output_type": "stream",
          "name": "stderr",
          "text": [
            " 76%|███████▌  | 57/75 [29:34<08:08, 27.15s/it]"
          ]
        },
        {
          "output_type": "stream",
          "name": "stdout",
          "text": [
            "epoch loss: 1.1140913168589275\n"
          ]
        },
        {
          "output_type": "stream",
          "name": "stderr",
          "text": [
            " 80%|████████  | 60/75 [31:04<06:42, 26.81s/it]"
          ]
        },
        {
          "output_type": "stream",
          "name": "stdout",
          "text": [
            "epoch loss: 1.102768341700236\n"
          ]
        },
        {
          "output_type": "stream",
          "name": "stderr",
          "text": [
            " 84%|████████▍ | 63/75 [32:36<05:24, 27.00s/it]"
          ]
        },
        {
          "output_type": "stream",
          "name": "stdout",
          "text": [
            "epoch loss: 1.0913814703623455\n"
          ]
        },
        {
          "output_type": "stream",
          "name": "stderr",
          "text": [
            " 88%|████████▊ | 66/75 [34:09<04:05, 27.24s/it]"
          ]
        },
        {
          "output_type": "stream",
          "name": "stdout",
          "text": [
            "epoch loss: 1.0873241821924846\n"
          ]
        },
        {
          "output_type": "stream",
          "name": "stderr",
          "text": [
            " 92%|█████████▏| 69/75 [35:42<02:44, 27.45s/it]"
          ]
        },
        {
          "output_type": "stream",
          "name": "stdout",
          "text": [
            "epoch loss: 1.0883523225784302\n"
          ]
        },
        {
          "output_type": "stream",
          "name": "stderr",
          "text": [
            " 96%|█████████▌| 72/75 [37:16<01:22, 27.54s/it]"
          ]
        },
        {
          "output_type": "stream",
          "name": "stdout",
          "text": [
            "epoch loss: 1.0818043152491252\n"
          ]
        },
        {
          "output_type": "stream",
          "name": "stderr",
          "text": [
            "100%|██████████| 75/75 [38:49<00:00, 27.58s/it]"
          ]
        },
        {
          "output_type": "stream",
          "name": "stdout",
          "text": [
            "epoch loss: 1.0845269362131755\n"
          ]
        }
      ],
      "source": [
        "progress_bar = tqdm(range(EPOCHS*len(dataloader))) # Cria a barra de progresso\n",
        "\n",
        "running_loss = [] # Lista para armazenar a perda por época\n",
        "for epoch in range(EPOCHS): # Loop pelas épocas\n",
        "\n",
        "  epoch_loss = 0 # Perda por época\n",
        "  for X, y in dataloader: \n",
        "    X, y = X.to(device), y.to(device) # Move os dados para a GPU se disponível\n",
        "    y = torch.argmax(y, dim=1) # Converte o rótulo para o formato de classificação multiclasse\n",
        "\n",
        "    optimizer.zero_grad() # Zera os gradientes\n",
        "    y_hat = model(X) # Executa o modelo\n",
        "    loss = loss_fn(y_hat, y) # Calcula a perda\n",
        "    loss.backward() # Calcula os gradientes\n",
        "    optimizer.step() # Atualiza os parâmetros\n",
        "\n",
        "    epoch_loss += loss.item() # Acumula a perda\n",
        "    progress_bar.update(1) # Atualiza a barra de progresso\n",
        "\n",
        "  epoch_loss = epoch_loss / len(dataloader) # Calcula a perda média por época\n",
        "  running_loss.append(epoch_loss) # Armazena a perda por época\n",
        "  print('epoch loss:', epoch_loss) # Imprime a perda por época\n",
        "\n"
      ]
    },
    {
      "cell_type": "code",
      "execution_count": 27,
      "metadata": {
        "colab": {
          "base_uri": "https://localhost:8080/"
        },
        "id": "rsU_jHV0gIdQ",
        "outputId": "5528adea-1a06-45cd-cd60-107e1ff01a22"
      },
      "outputs": [
        {
          "output_type": "execute_result",
          "data": {
            "text/plain": [
              "[1.7912263075510662,\n",
              " 1.7748566071192424,\n",
              " 1.7473316192626953,\n",
              " 1.706578532854716,\n",
              " 1.6519519885381062,\n",
              " 1.5708800554275513,\n",
              " 1.4666648308436077,\n",
              " 1.355458656946818,\n",
              " 1.2579871813456218,\n",
              " 1.1935805082321167,\n",
              " 1.156364917755127,\n",
              " 1.1374239921569824,\n",
              " 1.1357892751693726,\n",
              " 1.1252669095993042,\n",
              " 1.1189537048339844,\n",
              " 1.1239902973175049,\n",
              " 1.1151607831319172,\n",
              " 1.1102176109949748,\n",
              " 1.1140913168589275,\n",
              " 1.102768341700236,\n",
              " 1.0913814703623455,\n",
              " 1.0873241821924846,\n",
              " 1.0883523225784302,\n",
              " 1.0818043152491252,\n",
              " 1.0845269362131755]"
            ]
          },
          "metadata": {},
          "execution_count": 27
        }
      ],
      "source": [
        "running_loss # Imprime a lista de erro por época"
      ]
    },
    {
      "cell_type": "code",
      "execution_count": 28,
      "metadata": {
        "colab": {
          "base_uri": "https://localhost:8080/",
          "height": 447
        },
        "id": "gPcWNSe5gIdR",
        "outputId": "b6792731-d5cf-4ab5-b9cc-3c5dbd5f8a53"
      },
      "outputs": [
        {
          "output_type": "execute_result",
          "data": {
            "text/plain": [
              "[<matplotlib.lines.Line2D at 0x7f6eba625610>]"
            ]
          },
          "metadata": {},
          "execution_count": 28
        },
        {
          "output_type": "display_data",
          "data": {
            "text/plain": [
              "<Figure size 640x480 with 1 Axes>"
            ],
            "image/png": "[encoded data removed]"
          },
          "metadata": {}
        }
      ],
      "source": [
        "plt.plot(running_loss) # Plota o erro por época"
      ]
    },
    {
      "cell_type": "code",
      "execution_count": 29,
      "metadata": {
        "id": "FJVyHFYSgIdR"
      },
      "outputs": [],
      "source": [
        "dataloader_test = DataLoader(NewsDataset(dataset['test'], len(vocab)), batch_size=BATCH_SIZE, shuffle=True) # Cria o dataloader de teste"
      ]
    },
    {
      "cell_type": "code",
      "execution_count": 30,
      "metadata": {
        "colab": {
          "base_uri": "https://localhost:8080/"
        },
        "id": "2f0-C5ZpgIdR",
        "outputId": "3c5a7f40-8d2b-4bac-dede-1c31d15ae79f"
      },
      "outputs": [
        {
          "output_type": "stream",
          "name": "stdout",
          "text": [
            "Accuracy: 82.61%\n"
          ]
        }
      ],
      "source": [
        "correct = 0\n",
        "total = 0\n",
        "\n",
        "for X, y in dataloader_test:\n",
        "    model.eval() # Coloca o modelo em modo de avaliação\n",
        "    X, y = X.to(device), y.to(device) # Move os dados para a GPU se disponível\n",
        "    y = torch.argmax(y, dim=1) # Converte o rótulo para o formato de classificação multiclasse\n",
        "    \n",
        "    y_hat = model(X) # Executa o modelo\n",
        "    y_hat = torch.argmax(y_hat, dim=1) # Converte a saída do modelo para o formato de classificação multiclasse\n",
        "    \n",
        "    correct += (y_hat == y).sum().item() # Calcula a acurácia\n",
        "    total += y.shape[0] # Calcula o total de amostras\n",
        "\n",
        "print('Accuracy: {:.2f}%'.format(100 * correct / total)) # Imprime a acurácia\n"
      ]
    }
  ],
  "metadata": {
    "accelerator": "GPU",
    "colab": {
      "provenance": []
    },
    "kernelspec": {
      "display_name": "Python 3.10.5 64-bit",
      "language": "python",
      "name": "python3"
    },
    "language_info": {
      "codemirror_mode": {
        "name": "ipython",
        "version": 3
      },
      "file_extension": ".py",
      "mimetype": "text/x-python",
      "name": "python",
      "nbconvert_exporter": "python",
      "pygments_lexer": "ipython3",
      "version": "3.10.5"
    },
    "orig_nbformat": 4,
    "vscode": {
      "interpreter": {
        "hash": "767c48a64caae0be89fa7f8f777746ad491056046165076895ba67746a6851de"
      }
    },
    "widgets": {
      "application/vnd.jupyter.widget-state+json": {
        "c78ea53b0a784fa39755230418881a93": {
          "model_module": "@jupyter-widgets/controls",
          "model_name": "HBoxModel",
          "model_module_version": "1.5.0",
          "state": {
            "_dom_classes": [],
            "_model_module": "@jupyter-widgets/controls",
            "_model_module_version": "1.5.0",
            "_model_name": "HBoxModel",
            "_view_count": null,
            "_view_module": "@jupyter-widgets/controls",
            "_view_module_version": "1.5.0",
            "_view_name": "HBoxView",
            "box_style": "",
            "children": [
              "IPY_MODEL_9f976e84e86d42e7b18fd05bd85ef80a",
              "IPY_MODEL_583285c2bf7e45868dd7cec8f02a0db3",
              "IPY_MODEL_1da17ff146ab42c0a5b75fedb494ae6d"
            ],
            "layout": "IPY_MODEL_022ac8def08b4dd9b73d61af067d084f"
          }
        },
        "9f976e84e86d42e7b18fd05bd85ef80a": {
          "model_module": "@jupyter-widgets/controls",
          "model_name": "HTMLModel",
          "model_module_version": "1.5.0",
          "state": {
            "_dom_classes": [],
            "_model_module": "@jupyter-widgets/controls",
            "_model_module_version": "1.5.0",
            "_model_name": "HTMLModel",
            "_view_count": null,
            "_view_module": "@jupyter-widgets/controls",
            "_view_module_version": "1.5.0",
            "_view_name": "HTMLView",
            "description": "",
            "description_tooltip": null,
            "layout": "IPY_MODEL_54b2cdbaffa94c2f8bba80f0f2abae9f",
            "placeholder": "​",
            "style": "IPY_MODEL_b57db2015d3b46cab070826bd8e929a6",
            "value": "100%"
          }
        },
        "583285c2bf7e45868dd7cec8f02a0db3": {
          "model_module": "@jupyter-widgets/controls",
          "model_name": "FloatProgressModel",
          "model_module_version": "1.5.0",
          "state": {
            "_dom_classes": [],
            "_model_module": "@jupyter-widgets/controls",
            "_model_module_version": "1.5.0",
            "_model_name": "FloatProgressModel",
            "_view_count": null,
            "_view_module": "@jupyter-widgets/controls",
            "_view_module_version": "1.5.0",
            "_view_name": "ProgressView",
            "bar_style": "success",
            "description": "",
            "description_tooltip": null,
            "layout": "IPY_MODEL_91e7ca8f10ba47d99247747846258111",
            "max": 2,
            "min": 0,
            "orientation": "horizontal",
            "style": "IPY_MODEL_562eec751bbf48068376f3a6a7c415e7",
            "value": 2
          }
        },
        "1da17ff146ab42c0a5b75fedb494ae6d": {
          "model_module": "@jupyter-widgets/controls",
          "model_name": "HTMLModel",
          "model_module_version": "1.5.0",
          "state": {
            "_dom_classes": [],
            "_model_module": "@jupyter-widgets/controls",
            "_model_module_version": "1.5.0",
            "_model_name": "HTMLModel",
            "_view_count": null,
            "_view_module": "@jupyter-widgets/controls",
            "_view_module_version": "1.5.0",
            "_view_name": "HTMLView",
            "description": "",
            "description_tooltip": null,
            "layout": "IPY_MODEL_63a81558b3b14662abe2e954b4d08cc7",
            "placeholder": "​",
            "style": "IPY_MODEL_d912b0778d0c4e9392dbf11d844efa6c",
            "value": " 2/2 [00:00&lt;00:00, 84.20it/s]"
          }
        },
        "022ac8def08b4dd9b73d61af067d084f": {
          "model_module": "@jupyter-widgets/base",
          "model_name": "LayoutModel",
          "model_module_version": "1.2.0",
          "state": {
            "_model_module": "@jupyter-widgets/base",
            "_model_module_version": "1.2.0",
            "_model_name": "LayoutModel",
            "_view_count": null,
            "_view_module": "@jupyter-widgets/base",
            "_view_module_version": "1.2.0",
            "_view_name": "LayoutView",
            "align_content": null,
            "align_items": null,
            "align_self": null,
            "border": null,
            "bottom": null,
            "display": null,
            "flex": null,
            "flex_flow": null,
            "grid_area": null,
            "grid_auto_columns": null,
            "grid_auto_flow": null,
            "grid_auto_rows": null,
            "grid_column": null,
            "grid_gap": null,
            "grid_row": null,
            "grid_template_areas": null,
            "grid_template_columns": null,
            "grid_template_rows": null,
            "height": null,
            "justify_content": null,
            "justify_items": null,
            "left": null,
            "margin": null,
            "max_height": null,
            "max_width": null,
            "min_height": null,
            "min_width": null,
            "object_fit": null,
            "object_position": null,
            "order": null,
            "overflow": null,
            "overflow_x": null,
            "overflow_y": null,
            "padding": null,
            "right": null,
            "top": null,
            "visibility": null,
            "width": null
          }
        },
        "54b2cdbaffa94c2f8bba80f0f2abae9f": {
          "model_module": "@jupyter-widgets/base",
          "model_name": "LayoutModel",
          "model_module_version": "1.2.0",
          "state": {
            "_model_module": "@jupyter-widgets/base",
            "_model_module_version": "1.2.0",
            "_model_name": "LayoutModel",
            "_view_count": null,
            "_view_module": "@jupyter-widgets/base",
            "_view_module_version": "1.2.0",
            "_view_name": "LayoutView",
            "align_content": null,
            "align_items": null,
            "align_self": null,
            "border": null,
            "bottom": null,
            "display": null,
            "flex": null,
            "flex_flow": null,
            "grid_area": null,
            "grid_auto_columns": null,
            "grid_auto_flow": null,
            "grid_auto_rows": null,
            "grid_column": null,
            "grid_gap": null,
            "grid_row": null,
            "grid_template_areas": null,
            "grid_template_columns": null,
            "grid_template_rows": null,
            "height": null,
            "justify_content": null,
            "justify_items": null,
            "left": null,
            "margin": null,
            "max_height": null,
            "max_width": null,
            "min_height": null,
            "min_width": null,
            "object_fit": null,
            "object_position": null,
            "order": null,
            "overflow": null,
            "overflow_x": null,
            "overflow_y": null,
            "padding": null,
            "right": null,
            "top": null,
            "visibility": null,
            "width": null
          }
        },
        "b57db2015d3b46cab070826bd8e929a6": {
          "model_module": "@jupyter-widgets/controls",
          "model_name": "DescriptionStyleModel",
          "model_module_version": "1.5.0",
          "state": {
            "_model_module": "@jupyter-widgets/controls",
            "_model_module_version": "1.5.0",
            "_model_name": "DescriptionStyleModel",
            "_view_count": null,
            "_view_module": "@jupyter-widgets/base",
            "_view_module_version": "1.2.0",
            "_view_name": "StyleView",
            "description_width": ""
          }
        },
        "91e7ca8f10ba47d99247747846258111": {
          "model_module": "@jupyter-widgets/base",
          "model_name": "LayoutModel",
          "model_module_version": "1.2.0",
          "state": {
            "_model_module": "@jupyter-widgets/base",
            "_model_module_version": "1.2.0",
            "_model_name": "LayoutModel",
            "_view_count": null,
            "_view_module": "@jupyter-widgets/base",
            "_view_module_version": "1.2.0",
            "_view_name": "LayoutView",
            "align_content": null,
            "align_items": null,
            "align_self": null,
            "border": null,
            "bottom": null,
            "display": null,
            "flex": null,
            "flex_flow": null,
            "grid_area": null,
            "grid_auto_columns": null,
            "grid_auto_flow": null,
            "grid_auto_rows": null,
            "grid_column": null,
            "grid_gap": null,
            "grid_row": null,
            "grid_template_areas": null,
            "grid_template_columns": null,
            "grid_template_rows": null,
            "height": null,
            "justify_content": null,
            "justify_items": null,
            "left": null,
            "margin": null,
            "max_height": null,
            "max_width": null,
            "min_height": null,
            "min_width": null,
            "object_fit": null,
            "object_position": null,
            "order": null,
            "overflow": null,
            "overflow_x": null,
            "overflow_y": null,
            "padding": null,
            "right": null,
            "top": null,
            "visibility": null,
            "width": null
          }
        },
        "562eec751bbf48068376f3a6a7c415e7": {
          "model_module": "@jupyter-widgets/controls",
          "model_name": "ProgressStyleModel",
          "model_module_version": "1.5.0",
          "state": {
            "_model_module": "@jupyter-widgets/controls",
            "_model_module_version": "1.5.0",
            "_model_name": "ProgressStyleModel",
            "_view_count": null,
            "_view_module": "@jupyter-widgets/base",
            "_view_module_version": "1.2.0",
            "_view_name": "StyleView",
            "bar_color": null,
            "description_width": ""
          }
        },
        "63a81558b3b14662abe2e954b4d08cc7": {
          "model_module": "@jupyter-widgets/base",
          "model_name": "LayoutModel",
          "model_module_version": "1.2.0",
          "state": {
            "_model_module": "@jupyter-widgets/base",
            "_model_module_version": "1.2.0",
            "_model_name": "LayoutModel",
            "_view_count": null,
            "_view_module": "@jupyter-widgets/base",
            "_view_module_version": "1.2.0",
            "_view_name": "LayoutView",
            "align_content": null,
            "align_items": null,
            "align_self": null,
            "border": null,
            "bottom": null,
            "display": null,
            "flex": null,
            "flex_flow": null,
            "grid_area": null,
            "grid_auto_columns": null,
            "grid_auto_flow": null,
            "grid_auto_rows": null,
            "grid_column": null,
            "grid_gap": null,
            "grid_row": null,
            "grid_template_areas": null,
            "grid_template_columns": null,
            "grid_template_rows": null,
            "height": null,
            "justify_content": null,
            "justify_items": null,
            "left": null,
            "margin": null,
            "max_height": null,
            "max_width": null,
            "min_height": null,
            "min_width": null,
            "object_fit": null,
            "object_position": null,
            "order": null,
            "overflow": null,
            "overflow_x": null,
            "overflow_y": null,
            "padding": null,
            "right": null,
            "top": null,
            "visibility": null,
            "width": null
          }
        },
        "d912b0778d0c4e9392dbf11d844efa6c": {
          "model_module": "@jupyter-widgets/controls",
          "model_name": "DescriptionStyleModel",
          "model_module_version": "1.5.0",
          "state": {
            "_model_module": "@jupyter-widgets/controls",
            "_model_module_version": "1.5.0",
            "_model_name": "DescriptionStyleModel",
            "_view_count": null,
            "_view_module": "@jupyter-widgets/base",
            "_view_module_version": "1.2.0",
            "_view_name": "StyleView",
            "description_width": ""
          }
        }
      }
    },
    "gpuClass": "standard"
  },
  "nbformat": 4,
  "nbformat_minor": 0
}